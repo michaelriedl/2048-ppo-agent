{
 "cells": [
  {
   "cell_type": "markdown",
   "metadata": {},
   "source": [
    "# Explore Naive \"2048\" Strategies"
   ]
  },
  {
   "cell_type": "code",
   "execution_count": null,
   "metadata": {},
   "outputs": [],
   "source": [
    "import sys\n",
    "sys.path.append(\"../\")\n",
    "import os\n",
    "import pgx\n",
    "import matplotlib.pyplot as plt\n",
    "from IPython.display import SVG, display\n",
    "from src.actions import act_randomly, act_drul\n",
    "from src.runs import run_actions_batch, run_actions_max_tile\n",
    "\n",
    "# Define the number of simulations to run\n",
    "NUM_SIMS = 100000\n",
    "# Define the batch size\n",
    "BATCH_SIZE = 10000\n",
    "# Set the initial seed\n",
    "INIT_SEED = 0\n",
    "# Define the output folder\n",
    "OUTPUT_FOLDER = \"../results/notebooks\"\n",
    "\n",
    "# Create the output folder\n",
    "os.makedirs(OUTPUT_FOLDER, exist_ok=True)"
   ]
  },
  {
   "cell_type": "markdown",
   "metadata": {},
   "source": [
    "## Introduction\n",
    "In this notebook, we'll explore some naive strategies to play the game \"2048\". The game is played on a 4x4 grid, where the player can slide the tiles in four directions: up, down, left, and right. The player wins the game when a tile with the value 2048 appears on the grid. The game ends when the grid is full and no more moves can be made.\n",
    "\n",
    "We'll explore the following strategies:\n",
    "1. Random Strategy\n",
    "2. Corner Strategy (DRUL)\n",
    "\n",
    "### Random Strategy\n",
    "In the random strategy, we'll randomly choose a direction to slide the tiles based on valid moves. We'll continue to slide the tiles until the game ends.\n",
    "\n",
    "### Corner Strategy\n",
    "In the corner strategy, we'll prioritize the moves in the order: down, right, up, and left. We'll continue to slide the tiles until the game ends."
   ]
  },
  {
   "cell_type": "markdown",
   "metadata": {},
   "source": [
    "## Random Strategy"
   ]
  },
  {
   "cell_type": "markdown",
   "metadata": {},
   "source": [
    "### Demo of Strategy"
   ]
  },
  {
   "cell_type": "code",
   "execution_count": null,
   "metadata": {},
   "outputs": [],
   "source": [
    "# Run the random actions\n",
    "states = run_actions_batch(INIT_SEED, 4, act_randomly)\n",
    "\n",
    "# Create the visualization\n",
    "pgx.save_svg_animation(states, os.path.join(OUTPUT_FOLDER, \"2048_random_actions.svg\"), frame_duration_seconds=0.5)\n",
    "\n",
    "# Display the visualization\n",
    "display(SVG(os.path.join(OUTPUT_FOLDER, \"2048_random_actions.svg\")))"
   ]
  },
  {
   "cell_type": "markdown",
   "metadata": {},
   "source": [
    "### Larger Simulation to Look at Maximum Tile Statistics"
   ]
  },
  {
   "cell_type": "code",
   "execution_count": null,
   "metadata": {},
   "outputs": [],
   "source": [
    "# Run the simulations\n",
    "running_stats = run_actions_max_tile(INIT_SEED, BATCH_SIZE, NUM_SIMS, act_fn=act_randomly)\n",
    "mean_rand, std_rand = running_stats.mean, running_stats.std\n",
    "\n",
    "# Plot the mean and standard deviation for each turn\n",
    "plt.figure()\n",
    "plt.plot(mean_rand)\n",
    "plt.fill_between(\n",
    "    range(len(mean_rand)), (mean_rand - std_rand).squeeze(), (mean_rand + std_rand).squeeze(), alpha=0.5\n",
    ")\n",
    "plt.xlabel(\"Turn\")\n",
    "plt.ylabel(\"Max Tile\")\n",
    "plt.title(\"Random Agent\")\n",
    "plt.savefig(os.path.join(OUTPUT_FOLDER, \"2048_random_actions_stats.png\"), dpi=300)"
   ]
  },
  {
   "cell_type": "markdown",
   "metadata": {},
   "source": [
    "## Corner Strategy"
   ]
  },
  {
   "cell_type": "markdown",
   "metadata": {},
   "source": [
    "### Demo of Strategy"
   ]
  },
  {
   "cell_type": "code",
   "execution_count": null,
   "metadata": {},
   "outputs": [],
   "source": [
    "# Run the random actions\n",
    "states = run_actions_batch(INIT_SEED, 4, act_drul)\n",
    "\n",
    "# Create the visualization\n",
    "pgx.save_svg_animation(states, os.path.join(OUTPUT_FOLDER, \"2048_drul_actions.svg\"), frame_duration_seconds=0.5)\n",
    "\n",
    "# Display the visualization\n",
    "display(SVG(os.path.join(OUTPUT_FOLDER, \"2048_drul_actions.svg\")))"
   ]
  },
  {
   "cell_type": "markdown",
   "metadata": {},
   "source": [
    "### Larger Simulation to Look at Maximum Tile Statistics"
   ]
  },
  {
   "cell_type": "code",
   "execution_count": null,
   "metadata": {},
   "outputs": [],
   "source": [
    "# Run the simulations\n",
    "running_stats = run_actions_max_tile(INIT_SEED, BATCH_SIZE, NUM_SIMS, act_fn=act_drul)\n",
    "mean_drul, std_drul = running_stats.mean, running_stats.std\n",
    "\n",
    "# Plot the mean and standard deviation for each turn\n",
    "plt.figure()\n",
    "plt.plot(mean_drul)\n",
    "plt.fill_between(\n",
    "    range(len(mean_drul)), (mean_drul - std_drul).squeeze(), (mean_drul + std_drul).squeeze(), alpha=0.5\n",
    ")\n",
    "plt.xlabel(\"Turn\")\n",
    "plt.ylabel(\"Max Tile\")\n",
    "plt.title(\"Corner Agent\")\n",
    "plt.savefig(os.path.join(OUTPUT_FOLDER, \"2048_drul_actions_stats.png\"), dpi=300)"
   ]
  },
  {
   "cell_type": "markdown",
   "metadata": {},
   "source": [
    "## Plot all the Strategies"
   ]
  },
  {
   "cell_type": "code",
   "execution_count": null,
   "metadata": {},
   "outputs": [],
   "source": [
    "# Plot the mean and standard deviation for each turn\n",
    "plt.figure()\n",
    "plt.plot(mean_rand, label=\"Random\")\n",
    "plt.fill_between(\n",
    "    range(len(mean_rand)), (mean_rand - std_rand).squeeze(), (mean_rand + std_rand).squeeze(), alpha=0.5\n",
    ")\n",
    "plt.plot(mean_drul, label=\"Corner\")\n",
    "plt.fill_between(\n",
    "    range(len(mean_drul)), (mean_drul - std_drul).squeeze(), (mean_drul + std_drul).squeeze(), alpha=0.5\n",
    ")\n",
    "plt.xlabel(\"Turn\")\n",
    "plt.ylabel(\"Max Tile\")\n",
    "plt.title(\"Random vs. Corner Agent\")\n",
    "plt.legend()\n",
    "plt.savefig(os.path.join(OUTPUT_FOLDER, \"2048_random_vs_corner_actions_stats.png\"), dpi=300)"
   ]
  }
 ],
 "metadata": {
  "kernelspec": {
   "display_name": "ppo-torch-env",
   "language": "python",
   "name": "python3"
  },
  "language_info": {
   "codemirror_mode": {
    "name": "ipython",
    "version": 3
   },
   "file_extension": ".py",
   "mimetype": "text/x-python",
   "name": "python",
   "nbconvert_exporter": "python",
   "pygments_lexer": "ipython3",
   "version": "3.11.9"
  }
 },
 "nbformat": 4,
 "nbformat_minor": 2
}
