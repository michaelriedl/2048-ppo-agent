{
 "cells": [
  {
   "cell_type": "markdown",
   "metadata": {},
   "source": [
    "# Benchmark the Different Run Functions"
   ]
  },
  {
   "cell_type": "code",
   "execution_count": 1,
   "metadata": {},
   "outputs": [],
   "source": [
    "import sys\n",
    "\n",
    "sys.path.append(\"../\")\n",
    "import time\n",
    "\n",
    "from src.actions import act_randomly\n",
    "from src.runs import BatchRunner, run_actions_batch"
   ]
  },
  {
   "cell_type": "markdown",
   "metadata": {},
   "source": [
    "## Compare the Performance of Different Run Functions"
   ]
  },
  {
   "cell_type": "code",
   "execution_count": null,
   "metadata": {},
   "outputs": [],
   "source": [
    "# Set the initial seed\n",
    "init_seed = 0\n",
    "# Set the number of environments to run\n",
    "num_envs = 1000\n",
    "# Set the batch size\n",
    "batch_size = 100\n",
    "\n",
    "# Time the batch runner\n",
    "start = time.time()\n",
    "runner = BatchRunner(init_seed, act_randomly)\n",
    "for _ in range(num_envs // batch_size):\n",
    "    runner.run_actions_batch(batch_size)\n",
    "end = time.time()\n",
    "print(\"Time taken for BatchRunner: \", end - start)\n",
    "\n",
    "# Time the run actions batch function\n",
    "start = time.time()\n",
    "for _ in range(num_envs // batch_size):\n",
    "    run_actions_batch(init_seed, batch_size, act_randomly)\n",
    "end = time.time()\n",
    "print(\"Time taken for run_actions_batch: \", end - start)"
   ]
  },
  {
   "cell_type": "code",
   "execution_count": null,
   "metadata": {},
   "outputs": [],
   "source": []
  }
 ],
 "metadata": {
  "kernelspec": {
   "display_name": "ppo-torch-env",
   "language": "python",
   "name": "python3"
  },
  "language_info": {
   "codemirror_mode": {
    "name": "ipython",
    "version": 3
   },
   "file_extension": ".py",
   "mimetype": "text/x-python",
   "name": "python",
   "nbconvert_exporter": "python",
   "pygments_lexer": "ipython3",
   "version": "3.11.9"
  }
 },
 "nbformat": 4,
 "nbformat_minor": 2
}
